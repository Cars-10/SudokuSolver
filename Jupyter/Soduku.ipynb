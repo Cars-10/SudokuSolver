{
 "cells": [
  {
   "cell_type": "code",
   "execution_count": 10,
   "metadata": {
    "ExecuteTime": {
     "end_time": "2020-10-01T07:46:46.772051Z",
     "start_time": "2020-10-01T07:46:46.759382Z"
    },
    "tags": []
   },
   "outputs": [
    {
     "name": "stdout",
     "output_type": "stream",
     "text": [
      "[[0 0 3 0 0 5 0 0 4]\n",
      " [5 0 0 9 8 1 0 0 0]\n",
      " [0 0 0 0 0 0 0 2 0]\n",
      " [2 0 0 7 0 0 9 0 0]\n",
      " [0 8 0 0 9 0 0 3 0]\n",
      " [0 0 9 0 0 2 0 0 1]\n",
      " [0 3 0 0 0 0 0 0 0]\n",
      " [0 0 0 1 4 9 0 0 5]\n",
      " [9 0 0 3 0 0 8 0 0]]\n",
      "None\n"
     ]
    }
   ],
   "source": [
    "\n",
    "# Easy\n",
    "puzzle= ([9, 2, 0, 0, 0, 0, 5, 8, 4],\n",
    "[0, 0, 0, 5, 0, 0, 0, 0, 3],\n",
    "[0, 8, 3, 0, 9, 2, 0, 0, 0],\n",
    "[2, 6, 0, 8, 5, 4, 0, 0, 1],\n",
    "[0, 0, 5, 3, 6, 1, 0, 9, 0],\n",
    "[1, 0, 0, 0, 0, 9, 0, 0, 0],\n",
    "[8, 5, 0, 2, 0, 3, 0, 1, 0],\n",
    "[4, 1, 2, 9, 8, 0, 0, 3, 0],\n",
    "[3, 9, 0, 0, 0, 6, 8, 0, 0])\n",
    "\n",
    "#hard\n",
    "puzzle= ([0,0,3,0,0,5,0,0,4],\n",
    "[5,0,0,9,8,1,0,0,0],\n",
    "[0,0,0,0,0,0,0,2,0],\n",
    "[2,0,0,7,0,0,9,0,0],\n",
    "[0,8,0,0,9,0,0,3,0],\n",
    "[0,0,9,0,0,2,0,0,1],\n",
    "[0,3,0,0,0,0,0,0,0],\n",
    "[0,0,0,1,4,9,0,0,5],\n",
    "[9,0,0,3,0,0,8,0,0])\n",
    "\n",
    "import numpy as np\n",
    "print(np.matrix(puzzle))\n",
    "depth=1\n",
    "import sys\n",
    "print(sys.setrecursionlimit(5000))\n",
    "\n"
   ]
  },
  {
   "cell_type": "code",
   "execution_count": 6,
   "metadata": {
    "ExecuteTime": {
     "end_time": "2020-10-01T07:42:46.476673Z",
     "start_time": "2020-10-01T07:42:46.473756Z"
    }
   },
   "outputs": [],
   "source": [
    "def printPuzzleValues():\n",
    "    global puzzle\n",
    "    print(np.matrix(puzzle))\n",
    "\n"
   ]
  },
  {
   "cell_type": "code",
   "execution_count": 7,
   "metadata": {
    "ExecuteTime": {
     "end_time": "2020-10-01T07:42:53.896066Z",
     "start_time": "2020-10-01T07:42:53.890641Z"
    }
   },
   "outputs": [],
   "source": [
    "def isPossible(y,x,val):\n",
    "    \"\"\" Find if a matching number already exists\n",
    "    in the same row or column\n",
    "    \"\"\"\n",
    "    global puzzle\n",
    "    \n",
    "    for i in range(0,9):\n",
    "        if puzzle[y][i] == val:\n",
    "            return False\n",
    "    for i in range(0,9):\n",
    "        if puzzle[i][x] == val:\n",
    "            return False\n",
    "    x0=(x//3)*3\n",
    "    y0=(y//3)*3\n",
    "    for i in range(0,3):\n",
    "        for j in range(0,3):\n",
    "            if puzzle[y0+i][x0+j] == val:      \n",
    "                return False\n",
    "    #print(\"Is possible \" ,x ,y ,val)\n",
    "    return True"
   ]
  },
  {
   "cell_type": "code",
   "execution_count": 8,
   "metadata": {
    "ExecuteTime": {
     "end_time": "2020-10-01T07:42:55.469842Z",
     "start_time": "2020-10-01T07:42:55.465703Z"
    }
   },
   "outputs": [],
   "source": [
    "def solve():\n",
    "    global puzzle\n",
    "    for j in range(0,9):\n",
    "        for i in range(0,9):\n",
    "            if puzzle[j][i] == 0:\n",
    "                for val in range(1,10):\n",
    "                    if isPossible(j,i,val):\n",
    "                        puzzle[j][i] = val\n",
    "                        solve()\n",
    "                        puzzle[j][i] = 0\n",
    "                return\n",
    "    print(np.matrix(puzzle))\n",
    "    input(\"More?\")\n",
    "                    "
   ]
  },
  {
   "cell_type": "code",
   "execution_count": 11,
   "metadata": {
    "ExecuteTime": {
     "end_time": "2020-10-01T07:47:02.834261Z",
     "start_time": "2020-10-01T07:47:00.256505Z"
    },
    "tags": []
   },
   "outputs": [
    {
     "name": "stdout",
     "output_type": "stream",
     "text": [
      "[[8 6 3 2 7 5 1 9 4]\n",
      " [5 4 2 9 8 1 6 7 3]\n",
      " [1 9 7 4 3 6 5 2 8]\n",
      " [2 5 4 7 1 3 9 8 6]\n",
      " [6 8 1 5 9 4 2 3 7]\n",
      " [3 7 9 8 6 2 4 5 1]\n",
      " [4 3 5 6 2 8 7 1 9]\n",
      " [7 2 8 1 4 9 3 6 5]\n",
      " [9 1 6 3 5 7 8 4 2]]\n",
      "More?n\n"
     ]
    }
   ],
   "source": [
    "solve()"
   ]
  },
  {
   "cell_type": "code",
   "execution_count": 12,
   "metadata": {
    "ExecuteTime": {
     "end_time": "2020-10-01T08:49:16.213535Z",
     "start_time": "2020-10-01T08:49:16.209760Z"
    },
    "tags": []
   },
   "outputs": [
    {
     "name": "stdout",
     "output_type": "stream",
     "text": [
      "[[0 0 3 0 0 5 0 0 4]\n",
      " [5 0 0 9 8 1 0 0 0]\n",
      " [0 0 0 0 0 0 0 2 0]\n",
      " [2 0 0 7 0 0 9 0 0]\n",
      " [0 8 0 0 9 0 0 3 0]\n",
      " [0 0 9 0 0 2 0 0 1]\n",
      " [0 3 0 0 0 0 0 0 0]\n",
      " [0 0 0 1 4 9 0 0 5]\n",
      " [9 0 0 3 0 0 8 0 0]]\n"
     ]
    }
   ],
   "source": [
    "printPuzzleValues()"
   ]
  }
 ],
 "metadata": {
  "kernelspec": {
   "display_name": "Python 3.7.3 64-bit",
   "language": "python",
   "name": "python37364bitd42b7a236b5d413f85207289c816dd9a"
  },
  "language_info": {
   "codemirror_mode": {
    "name": "ipython",
    "version": 3
   },
   "file_extension": ".py",
   "mimetype": "text/x-python",
   "name": "python",
   "nbconvert_exporter": "python",
   "pygments_lexer": "ipython3",
   "version": "3.7.3"
  }
 },
 "nbformat": 4,
 "nbformat_minor": 2
}
